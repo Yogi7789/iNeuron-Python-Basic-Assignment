{
 "cells": [
  {
   "cell_type": "markdown",
   "metadata": {},
   "source": [
    "## 1. Write a Python program to print \"Hello Python\"?"
   ]
  },
  {
   "cell_type": "code",
   "execution_count": 1,
   "metadata": {},
   "outputs": [
    {
     "name": "stdout",
     "output_type": "stream",
     "text": [
      "Hello\n"
     ]
    }
   ],
   "source": [
    "print('Hello')"
   ]
  },
  {
   "cell_type": "markdown",
   "metadata": {},
   "source": [
    "## 2. Write a Python program to do arithmetical operations addition and division.?"
   ]
  },
  {
   "cell_type": "code",
   "execution_count": 4,
   "metadata": {},
   "outputs": [
    {
     "name": "stdout",
     "output_type": "stream",
     "text": [
      "Enter the first number:- 10\n",
      "Enter the second number:- 2\n",
      "Addition of two number:-  12\n",
      "diviosn of two number:-  5.0\n"
     ]
    }
   ],
   "source": [
    "a=int(input(\"Enter the first number:- \"))\n",
    "b=int(input(\"Enter the second number:- \"))\n",
    "c=a+b\n",
    "d=a/b\n",
    "print(\"Addition of two number:- \",c)\n",
    "print(\"diviosn of two number:- \",d)"
   ]
  },
  {
   "cell_type": "markdown",
   "metadata": {},
   "source": [
    "## 3. Write a Python program to find the area of a triangle?"
   ]
  },
  {
   "cell_type": "code",
   "execution_count": 6,
   "metadata": {},
   "outputs": [
    {
     "name": "stdout",
     "output_type": "stream",
     "text": [
      "Enter the first number :- 10\n",
      "Enter the second number :- 5\n",
      "Enter the third number :- 7\n",
      "Area of triangle :-  16.24807680927192\n"
     ]
    }
   ],
   "source": [
    "a=int(input(\"Enter the first number :- \"))\n",
    "b=int(input(\"Enter the second number :- \"))\n",
    "c=int(input(\"Enter the third number :- \"))\n",
    "s=(a+b+c)/2\n",
    "area = (s*(s-a)*(s-b)*(s-c))** 0.5\n",
    "print(\"Area of triangle :- \",area)"
   ]
  },
  {
   "cell_type": "markdown",
   "metadata": {},
   "source": [
    "## 4. Write a Python program to swap two variables?"
   ]
  },
  {
   "cell_type": "code",
   "execution_count": 9,
   "metadata": {},
   "outputs": [
    {
     "name": "stdout",
     "output_type": "stream",
     "text": [
      "Enter the first number :- 10\n",
      "Enter the second number :- 5\n",
      "value of first number:-  5\n",
      "value of second number:-  10\n"
     ]
    }
   ],
   "source": [
    "a=int(input(\"Enter the first number :- \"))\n",
    "b=int(input(\"Enter the second number :- \"))\n",
    "temp=a\n",
    "a=b\n",
    "b=temp\n",
    "\n",
    "print(\"value of first number:- \",a)\n",
    "print(\"value of second number:- \",b)"
   ]
  },
  {
   "cell_type": "markdown",
   "metadata": {},
   "source": [
    "## 5. Write a Python program to generate a random number?"
   ]
  },
  {
   "cell_type": "code",
   "execution_count": 23,
   "metadata": {},
   "outputs": [
    {
     "name": "stdout",
     "output_type": "stream",
     "text": [
      "Enter the range of number10\n",
      "92\n",
      "56\n",
      "16\n",
      "96\n",
      "16\n",
      "74\n",
      "79\n",
      "83\n",
      "18\n",
      "20\n"
     ]
    }
   ],
   "source": [
    "import random\n",
    "n=int(input(\"Enter the range of number\"))\n",
    "for i in range(n):\n",
    "    print(random.randint(1,100))\n",
    "   "
   ]
  },
  {
   "cell_type": "code",
   "execution_count": null,
   "metadata": {},
   "outputs": [],
   "source": []
  }
 ],
 "metadata": {
  "kernelspec": {
   "display_name": "Python 3",
   "language": "python",
   "name": "python3"
  },
  "language_info": {
   "codemirror_mode": {
    "name": "ipython",
    "version": 3
   },
   "file_extension": ".py",
   "mimetype": "text/x-python",
   "name": "python",
   "nbconvert_exporter": "python",
   "pygments_lexer": "ipython3",
   "version": "3.8.5"
  }
 },
 "nbformat": 4,
 "nbformat_minor": 4
}
