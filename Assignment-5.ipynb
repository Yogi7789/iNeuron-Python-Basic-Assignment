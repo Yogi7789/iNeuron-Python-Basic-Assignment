{
 "cells": [
  {
   "cell_type": "markdown",
   "metadata": {},
   "source": [
    "## 1.Write a Python Program to Find LCM?\n"
   ]
  },
  {
   "cell_type": "code",
   "execution_count": 2,
   "metadata": {},
   "outputs": [
    {
     "name": "stdout",
     "output_type": "stream",
     "text": [
      "Enter the first number:- 10\n",
      "Enter the second number:- 5\n",
      "LCM of 10 and 5 = 10\n"
     ]
    }
   ],
   "source": [
    "x=int(input(\"Enter the first number:- \"))\n",
    "y=int(input(\"Enter the second number:- \"))\n",
    "if x > y:  \n",
    "    greater = x  \n",
    "else:  \n",
    "    greater = y  \n",
    "while(True):  \n",
    "    if((greater % x == 0) and (greater % y == 0)):  \n",
    "        lcm = greater  \n",
    "        break  \n",
    "    greater += 1\n",
    "\n",
    "print (\"LCM of {} and {} = {}\".format(x,y,lcm))"
   ]
  },
  {
   "cell_type": "markdown",
   "metadata": {},
   "source": [
    "## 2.Write a Python Program to Find HCF?\n",
    "\n"
   ]
  },
  {
   "cell_type": "code",
   "execution_count": 1,
   "metadata": {},
   "outputs": [
    {
     "name": "stdout",
     "output_type": "stream",
     "text": [
      "Enter the first number : 5\n",
      "Entert the second number : 10\n",
      "The H.C.F. is 5\n"
     ]
    }
   ],
   "source": [
    "def compute_hcf(x, y):\n",
    "    if x > y:\n",
    "        smaller = y\n",
    "    else:\n",
    "        smaller = x\n",
    "    for i in range(1, smaller+1):\n",
    "        if((x % i == 0) and (y % i == 0)):\n",
    "            hcf = i \n",
    "    return hcf\n",
    "\n",
    "num1 = int(input(\"Enter the first number : \"))\n",
    "num2 = int(input(\"Entert the second number : \"))\n",
    "\n",
    "print(\"The H.C.F. is\", compute_hcf(num1, num2))"
   ]
  },
  {
   "cell_type": "markdown",
   "metadata": {},
   "source": [
    "## 3.Write a Python Program to Convert Decimal to Binary, Octal and Hexadecimal?\n"
   ]
  },
  {
   "cell_type": "code",
   "execution_count": 4,
   "metadata": {},
   "outputs": [
    {
     "name": "stdout",
     "output_type": "stream",
     "text": [
      "Enter an integer: 555\n",
      "The decimal value of 555 is:\n",
      "0b1000101011 in binary.\n",
      "0o1053 in octal.\n",
      "0x22b in hexadecimal.\n"
     ]
    }
   ],
   "source": [
    "decimal = int(input(\"Enter an integer: \"))\n",
    "print(\"The decimal value of\", decimal, \"is:\")\n",
    "print(bin(decimal), \"in binary.\")\n",
    "print(oct(decimal), \"in octal.\")\n",
    "print(hex(decimal), \"in hexadecimal.\")"
   ]
  },
  {
   "cell_type": "markdown",
   "metadata": {},
   "source": [
    "## 4.Write a Python Program To Find ASCII value of a character?\n"
   ]
  },
  {
   "cell_type": "code",
   "execution_count": 14,
   "metadata": {},
   "outputs": [
    {
     "name": "stdout",
     "output_type": "stream",
     "text": [
      "Enter the Character : p\n",
      "The ASCII value of 'p' is 112\n"
     ]
    }
   ],
   "source": [
    "c = input(\"Enter the Character : \")\n",
    "print(\"The ASCII value of '\" + c + \"' is\", ord(c))"
   ]
  },
  {
   "cell_type": "markdown",
   "metadata": {},
   "source": [
    "## 5.Write a Python Program to Make a Simple Calculator with 4 basic mathematical operations"
   ]
  },
  {
   "cell_type": "code",
   "execution_count": 15,
   "metadata": {},
   "outputs": [
    {
     "name": "stdout",
     "output_type": "stream",
     "text": [
      "How Many times you will use Calculator ? 2\n",
      "[1] Addition\n",
      "[2] Substration\n",
      "[3] Multiply\n",
      "[4] Divide\n",
      "[5] Modulus\n",
      "[6] Exponent\n",
      "[7] Floor Division\n",
      "Enter the your choice : 1\n",
      "Enter the Number ? 45\n",
      "Enter the Number ? 45\n",
      "90\n",
      "[1] Addition\n",
      "[2] Substration\n",
      "[3] Multiply\n",
      "[4] Divide\n",
      "[5] Modulus\n",
      "[6] Exponent\n",
      "[7] Floor Division\n",
      "Enter the your choice : 2\n",
      "Enter the Number ? 50\n",
      "Enter the Number ? 45\n",
      "5\n"
     ]
    }
   ],
   "source": [
    "choice=eval(input(\"How Many times you will use Calculator ? \"))\n",
    "for i in range(1,choice+1):\n",
    "    \n",
    "    print(\"[1] Addition\")\n",
    "    print(\"[2] Substration\")\n",
    "    print(\"[3] Multiply\")\n",
    "    print(\"[4] Divide\")\n",
    "    print(\"[5] Modulus\")\n",
    "    print(\"[6] Exponent\")\n",
    "    print(\"[7] Floor Division\")\n",
    "    \n",
    "    ch=int(input(\"Enter the your choice : \" ))\n",
    "    \n",
    "    input1=int(input(\"Enter the Number ? \"))\n",
    "    input2=int(input(\"Enter the Number ? \"))\n",
    "    \n",
    "    if ch==1:\n",
    "        input1+=input2\n",
    "        print(input1)\n",
    "    elif ch==2:\n",
    "        input1-=input2\n",
    "        print(input1)\n",
    "    elif ch==3:\n",
    "        input1*=input2\n",
    "        print(input1)\n",
    "    elif ch==4:\n",
    "        input1/=input2\n",
    "        print(input1)\n",
    "    elif ch==5:\n",
    "        input1%=input2\n",
    "        print(input1)\n",
    "    elif ch==6:\n",
    "        input1**=input2\n",
    "        print(input1)\n",
    "    elif ch==7:\n",
    "        input1//=input2\n",
    "        print(input1)\n",
    "    else:\n",
    "        print(\"Invalid Choice\")\n",
    "        print(\"Please Select Correct Choice?\")"
   ]
  },
  {
   "cell_type": "code",
   "execution_count": null,
   "metadata": {},
   "outputs": [],
   "source": []
  }
 ],
 "metadata": {
  "kernelspec": {
   "display_name": "Python 3",
   "language": "python",
   "name": "python3"
  },
  "language_info": {
   "codemirror_mode": {
    "name": "ipython",
    "version": 3
   },
   "file_extension": ".py",
   "mimetype": "text/x-python",
   "name": "python",
   "nbconvert_exporter": "python",
   "pygments_lexer": "ipython3",
   "version": "3.8.5"
  }
 },
 "nbformat": 4,
 "nbformat_minor": 4
}
