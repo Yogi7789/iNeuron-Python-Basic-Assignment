{
 "cells": [
  {
   "cell_type": "markdown",
   "metadata": {},
   "source": [
    "## 1.\tWrite a Python program to convert kilometers to miles?"
   ]
  },
  {
   "cell_type": "code",
   "execution_count": 2,
   "metadata": {},
   "outputs": [
    {
     "name": "stdout",
     "output_type": "stream",
     "text": [
      "Enter the kilometers:- 1\n",
      "Value of miles is :-  0.6214\n"
     ]
    }
   ],
   "source": [
    "kilometers=eval(input(\"Enter the kilometers:- \"))\n",
    "miles=kilometers*0.6214\n",
    "print(\"Value of miles is :- \",miles)"
   ]
  },
  {
   "cell_type": "markdown",
   "metadata": {},
   "source": [
    "## 2.\tWrite a Python program to convert Celsius to Fahrenheit?"
   ]
  },
  {
   "cell_type": "code",
   "execution_count": 9,
   "metadata": {},
   "outputs": [
    {
     "name": "stdout",
     "output_type": "stream",
     "text": [
      "Enter the celsius:- 26\n",
      "78.8\n"
     ]
    }
   ],
   "source": [
    "celsius=float(input(\"Enter the celsius:- \"))\n",
    "Fahrenheit=(celsius * 9/5 ) + 32 \n",
    "print(Fahrenheit)"
   ]
  },
  {
   "cell_type": "markdown",
   "metadata": {},
   "source": [
    "## 3. Write a Python program to display calendar?"
   ]
  },
  {
   "cell_type": "code",
   "execution_count": 32,
   "metadata": {},
   "outputs": [
    {
     "name": "stdout",
     "output_type": "stream",
     "text": [
      "    January 2021\n",
      "Mo Tu We Th Fr Sa Su\n",
      "             1  2  3\n",
      " 4  5  6  7  8  9 10\n",
      "11 12 13 14 15 16 17\n",
      "18 19 20 21 22 23 24\n",
      "25 26 27 28 29 30 31\n",
      "\n",
      "   February 2021\n",
      "Mo Tu We Th Fr Sa Su\n",
      " 1  2  3  4  5  6  7\n",
      " 8  9 10 11 12 13 14\n",
      "15 16 17 18 19 20 21\n",
      "22 23 24 25 26 27 28\n",
      "\n",
      "     March 2021\n",
      "Mo Tu We Th Fr Sa Su\n",
      " 1  2  3  4  5  6  7\n",
      " 8  9 10 11 12 13 14\n",
      "15 16 17 18 19 20 21\n",
      "22 23 24 25 26 27 28\n",
      "29 30 31\n",
      "\n",
      "     April 2021\n",
      "Mo Tu We Th Fr Sa Su\n",
      "          1  2  3  4\n",
      " 5  6  7  8  9 10 11\n",
      "12 13 14 15 16 17 18\n",
      "19 20 21 22 23 24 25\n",
      "26 27 28 29 30\n",
      "\n",
      "      May 2021\n",
      "Mo Tu We Th Fr Sa Su\n",
      "                1  2\n",
      " 3  4  5  6  7  8  9\n",
      "10 11 12 13 14 15 16\n",
      "17 18 19 20 21 22 23\n",
      "24 25 26 27 28 29 30\n",
      "31\n",
      "\n",
      "     June 2021\n",
      "Mo Tu We Th Fr Sa Su\n",
      "    1  2  3  4  5  6\n",
      " 7  8  9 10 11 12 13\n",
      "14 15 16 17 18 19 20\n",
      "21 22 23 24 25 26 27\n",
      "28 29 30\n",
      "\n",
      "     July 2021\n",
      "Mo Tu We Th Fr Sa Su\n",
      "          1  2  3  4\n",
      " 5  6  7  8  9 10 11\n",
      "12 13 14 15 16 17 18\n",
      "19 20 21 22 23 24 25\n",
      "26 27 28 29 30 31\n",
      "\n",
      "    August 2021\n",
      "Mo Tu We Th Fr Sa Su\n",
      "                   1\n",
      " 2  3  4  5  6  7  8\n",
      " 9 10 11 12 13 14 15\n",
      "16 17 18 19 20 21 22\n",
      "23 24 25 26 27 28 29\n",
      "30 31\n",
      "\n",
      "   September 2021\n",
      "Mo Tu We Th Fr Sa Su\n",
      "       1  2  3  4  5\n",
      " 6  7  8  9 10 11 12\n",
      "13 14 15 16 17 18 19\n",
      "20 21 22 23 24 25 26\n",
      "27 28 29 30\n",
      "\n",
      "    October 2021\n",
      "Mo Tu We Th Fr Sa Su\n",
      "             1  2  3\n",
      " 4  5  6  7  8  9 10\n",
      "11 12 13 14 15 16 17\n",
      "18 19 20 21 22 23 24\n",
      "25 26 27 28 29 30 31\n",
      "\n",
      "   November 2021\n",
      "Mo Tu We Th Fr Sa Su\n",
      " 1  2  3  4  5  6  7\n",
      " 8  9 10 11 12 13 14\n",
      "15 16 17 18 19 20 21\n",
      "22 23 24 25 26 27 28\n",
      "29 30\n",
      "\n",
      "   December 2021\n",
      "Mo Tu We Th Fr Sa Su\n",
      "       1  2  3  4  5\n",
      " 6  7  8  9 10 11 12\n",
      "13 14 15 16 17 18 19\n",
      "20 21 22 23 24 25 26\n",
      "27 28 29 30 31\n",
      "\n"
     ]
    }
   ],
   "source": [
    "import calendar\n",
    "yy=2021\n",
    "m1=1\n",
    "m2=2\n",
    "m3=3\n",
    "m4=4\n",
    "m5=5\n",
    "m6=6\n",
    "m7=7\n",
    "m8=8\n",
    "m9=9\n",
    "m10=10\n",
    "m11=11\n",
    "m12=12\n",
    "\n",
    "print(calendar.month(yy,m1))\n",
    "print(calendar.month(yy,m2))\n",
    "print(calendar.month(yy,m3))\n",
    "print(calendar.month(yy,m4))\n",
    "print(calendar.month(yy,m5))\n",
    "print(calendar.month(yy,m6))\n",
    "print(calendar.month(yy,m7))\n",
    "print(calendar.month(yy,m8))\n",
    "print(calendar.month(yy,m9))\n",
    "print(calendar.month(yy,m10))\n",
    "print(calendar.month(yy,m11))\n",
    "print(calendar.month(yy,m12))\n"
   ]
  },
  {
   "cell_type": "markdown",
   "metadata": {},
   "source": [
    "## 4.\tWrite a Python program to solve quadratic equation?"
   ]
  },
  {
   "cell_type": "code",
   "execution_count": 33,
   "metadata": {},
   "outputs": [
    {
     "name": "stdout",
     "output_type": "stream",
     "text": [
      "Quadric Equation Form :- Ax^2 + Bx + c \n",
      "Enter the value a = 10\n",
      "Enter the Value b = 5\n",
      "Enter the value c = 2\n",
      "-55.0\n",
      "Two distinct complex roots:- \n",
      "-0.25\n",
      "-0.25\n",
      "\n",
      "\n",
      "Do you want check Quadratic Equation n\n"
     ]
    }
   ],
   "source": [
    "choice=\"y\"\n",
    "while choice==\"y\":\n",
    "    \n",
    "    print(\"Quadric Equation Form :- Ax^2 + Bx + c \")\n",
    "    \n",
    "    \n",
    "    a = float(input(\"Enter the value a = \"))\n",
    "    \n",
    "    b = float(input(\"Enter the Value b = \"))\n",
    "    \n",
    "    c = float(input(\"Enter the value c = \"))\n",
    "    \n",
    "    discriminant = (b * b) - (4 * a * c)\n",
    "    print(discriminant)\n",
    "    if(discriminant > 0):\n",
    "        \n",
    "        \n",
    "        root1 = (-b + (discriminant**0.5))/(2*a)\n",
    "        root2 = (-b - (discriminant**0.5))/(2*a)\n",
    "        \n",
    "        \n",
    "        print(\"Two distinct and real roots are :-\")\n",
    "        print(root1)\n",
    "        print(root2)\n",
    "        \n",
    "    elif (discriminant == 0):\n",
    "        \n",
    "        root1 = root2 = -b /(2*a)\n",
    "        print(\"Two equal and real roots :- \")\n",
    "        print(root1)\n",
    "        \n",
    "    elif (discriminant < 0):\n",
    "        root1 = root2 = -b /(2*a)\n",
    "        imaginary = (-discriminant**0.5)/(2 * a)\n",
    "        \n",
    "        print(\"Two distinct complex roots:- \")\n",
    "        print(root1)\n",
    "        print(root2)\n",
    "        \n",
    "    print(\"\\n\")\n",
    "    choice=input(\"Do you want check Quadratic Equation \")\n",
    "      \n",
    "    "
   ]
  },
  {
   "cell_type": "markdown",
   "metadata": {},
   "source": [
    "## 5. Write a Python program to swap two variables without temp variable"
   ]
  },
  {
   "cell_type": "code",
   "execution_count": 4,
   "metadata": {},
   "outputs": [
    {
     "name": "stdout",
     "output_type": "stream",
     "text": [
      "Enter the first number :- 5\n",
      "Enter the second number :- 4\n",
      "After swapping \n",
      "Value of x : 4\n",
      "value of y : 5\n"
     ]
    }
   ],
   "source": [
    "x=int(input(\"Enter the first number :- \"))\n",
    "y=int(input(\"Enter the second number :- \"))\n",
    "x=x+y\n",
    "y=x-y\n",
    "x=x-y\n",
    "print(\"After swapping \")\n",
    "print('Value of x :',x)\n",
    "print('value of y :',y)"
   ]
  },
  {
   "cell_type": "code",
   "execution_count": null,
   "metadata": {},
   "outputs": [],
   "source": []
  }
 ],
 "metadata": {
  "kernelspec": {
   "display_name": "Python 3",
   "language": "python",
   "name": "python3"
  },
  "language_info": {
   "codemirror_mode": {
    "name": "ipython",
    "version": 3
   },
   "file_extension": ".py",
   "mimetype": "text/x-python",
   "name": "python",
   "nbconvert_exporter": "python",
   "pygments_lexer": "ipython3",
   "version": "3.8.5"
  }
 },
 "nbformat": 4,
 "nbformat_minor": 4
}
